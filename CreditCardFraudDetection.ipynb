{
 "cells": [
  {
   "cell_type": "markdown",
   "metadata": {},
   "source": [
    "# Credit Card Fradulent Transaction Detection\n",
    "\n",
    "### - Mrinalini Ineti Ramakanth"
   ]
  },
  {
   "cell_type": "markdown",
   "metadata": {},
   "source": [
    "## Introduction\n",
    "Detection of credit card fraud is of atmost importance for all the credit card companies. It is essential for these companies to detect any potential fraudulentt transaction so that customers are not charged for items they did not purchase. \n",
    "\n",
    "## Objective\n",
    "Goal of this project is to explore various classifiers and to predict if a transaction is fraudulent or not. Evaluate the performance of these classifiers using various Precision-Recall curve, Cohen's Kappa and Matthews coefficient.\n",
    "\n",
    "## Dataset\n",
    "The dataset is the Kaggle Credit Card Fraud Detection dataset : https://www.kaggle.com/mlg-ulb/creditcardfraud. It contains two-day transactions made on 09/2013 by European cardholders. The dataset contains 492 frauds out of 284,807 transactions. Thus, it is highly unbalanced, with the positive (frauds) accounting for only 0.17%.\n",
    "\n",
    "Due to confidentiality the original feature names or background information of the data is not reavelaed in the dataset provided. Features V1, V2, … V28 are the principal components obtained with PCA transformation. The only features which have not been transformed are ‘Time’ and ‘Amount’. ‘Time’ is the seconds elapsed between each transaction and the first. ‘Amount’ is the transaction amount. ‘Class’ is the response variable with 1 as fraud and 0 otherwise.\n",
    "\n",
    "The dataset can be accessed from the link : https://drive.google.com/file/d/1OdR6plTfpgqi1j6WHlq0f__WamkIPbbh/view?usp=sharing"
   ]
  },
  {
   "cell_type": "markdown",
   "metadata": {},
   "source": [
    "### Importing all the necessary libraries and packages. "
   ]
  },
  {
   "cell_type": "code",
   "execution_count": 6,
   "metadata": {},
   "outputs": [],
   "source": [
    "import csv\n",
    "import math\n",
    "import numpy as np\n",
    "import pandas as pd\n",
    "from numpy.random import seed\n",
    "import matplotlib.pyplot as plt\n",
    "from sklearn.model_selection import train_test_split\n",
    "from sklearn.linear_model import LogisticRegression\n",
    "from sklearn.metrics import confusion_matrix\n",
    "from sklearn.metrics import precision_score\n",
    "from sklearn.metrics import recall_score\n",
    "from sklearn.metrics import f1_score\n",
    "from sklearn.discriminant_analysis import LinearDiscriminantAnalysis\n",
    "from sklearn.neighbors import KNeighborsClassifier\n",
    "from sklearn.discriminant_analysis import QuadraticDiscriminantAnalysis\n",
    "from sklearn.ensemble import RandomForestClassifier\n",
    "from sklearn.naive_bayes import GaussianNB\n",
    "from sklearn.tree import DecisionTreeClassifier\n",
    "from sklearn.metrics import roc_curve, auc\n",
    "from imblearn.over_sampling import SMOTE\n",
    "from sklearn.metrics import matthews_corrcoef\n",
    "from sklearn.metrics import precision_recall_curve\n",
    "from sklearn.metrics import cohen_kappa_score\n",
    "import warnings\n",
    "warnings.filterwarnings('ignore')"
   ]
  },
  {
   "cell_type": "markdown",
   "metadata": {},
   "source": [
    "### Read the data \n",
    "\n"
   ]
  },
  {
   "cell_type": "code",
   "execution_count": 7,
   "metadata": {},
   "outputs": [
    {
     "data": {
      "text/html": [
       "<div>\n",
       "<style scoped>\n",
       "    .dataframe tbody tr th:only-of-type {\n",
       "        vertical-align: middle;\n",
       "    }\n",
       "\n",
       "    .dataframe tbody tr th {\n",
       "        vertical-align: top;\n",
       "    }\n",
       "\n",
       "    .dataframe thead th {\n",
       "        text-align: right;\n",
       "    }\n",
       "</style>\n",
       "<table border=\"1\" class=\"dataframe\">\n",
       "  <thead>\n",
       "    <tr style=\"text-align: right;\">\n",
       "      <th></th>\n",
       "      <th>Time</th>\n",
       "      <th>V1</th>\n",
       "      <th>V2</th>\n",
       "      <th>V3</th>\n",
       "      <th>V4</th>\n",
       "      <th>V5</th>\n",
       "      <th>V6</th>\n",
       "      <th>V7</th>\n",
       "      <th>V8</th>\n",
       "      <th>V9</th>\n",
       "      <th>...</th>\n",
       "      <th>V21</th>\n",
       "      <th>V22</th>\n",
       "      <th>V23</th>\n",
       "      <th>V24</th>\n",
       "      <th>V25</th>\n",
       "      <th>V26</th>\n",
       "      <th>V27</th>\n",
       "      <th>V28</th>\n",
       "      <th>Amount</th>\n",
       "      <th>Class</th>\n",
       "    </tr>\n",
       "  </thead>\n",
       "  <tbody>\n",
       "    <tr>\n",
       "      <td>0</td>\n",
       "      <td>0.0</td>\n",
       "      <td>-1.359807</td>\n",
       "      <td>-0.072781</td>\n",
       "      <td>2.536347</td>\n",
       "      <td>1.378155</td>\n",
       "      <td>-0.338321</td>\n",
       "      <td>0.462388</td>\n",
       "      <td>0.239599</td>\n",
       "      <td>0.098698</td>\n",
       "      <td>0.363787</td>\n",
       "      <td>...</td>\n",
       "      <td>-0.018307</td>\n",
       "      <td>0.277838</td>\n",
       "      <td>-0.110474</td>\n",
       "      <td>0.066928</td>\n",
       "      <td>0.128539</td>\n",
       "      <td>-0.189115</td>\n",
       "      <td>0.133558</td>\n",
       "      <td>-0.021053</td>\n",
       "      <td>149.62</td>\n",
       "      <td>0</td>\n",
       "    </tr>\n",
       "    <tr>\n",
       "      <td>1</td>\n",
       "      <td>0.0</td>\n",
       "      <td>1.191857</td>\n",
       "      <td>0.266151</td>\n",
       "      <td>0.166480</td>\n",
       "      <td>0.448154</td>\n",
       "      <td>0.060018</td>\n",
       "      <td>-0.082361</td>\n",
       "      <td>-0.078803</td>\n",
       "      <td>0.085102</td>\n",
       "      <td>-0.255425</td>\n",
       "      <td>...</td>\n",
       "      <td>-0.225775</td>\n",
       "      <td>-0.638672</td>\n",
       "      <td>0.101288</td>\n",
       "      <td>-0.339846</td>\n",
       "      <td>0.167170</td>\n",
       "      <td>0.125895</td>\n",
       "      <td>-0.008983</td>\n",
       "      <td>0.014724</td>\n",
       "      <td>2.69</td>\n",
       "      <td>0</td>\n",
       "    </tr>\n",
       "    <tr>\n",
       "      <td>2</td>\n",
       "      <td>1.0</td>\n",
       "      <td>-1.358354</td>\n",
       "      <td>-1.340163</td>\n",
       "      <td>1.773209</td>\n",
       "      <td>0.379780</td>\n",
       "      <td>-0.503198</td>\n",
       "      <td>1.800499</td>\n",
       "      <td>0.791461</td>\n",
       "      <td>0.247676</td>\n",
       "      <td>-1.514654</td>\n",
       "      <td>...</td>\n",
       "      <td>0.247998</td>\n",
       "      <td>0.771679</td>\n",
       "      <td>0.909412</td>\n",
       "      <td>-0.689281</td>\n",
       "      <td>-0.327642</td>\n",
       "      <td>-0.139097</td>\n",
       "      <td>-0.055353</td>\n",
       "      <td>-0.059752</td>\n",
       "      <td>378.66</td>\n",
       "      <td>0</td>\n",
       "    </tr>\n",
       "    <tr>\n",
       "      <td>3</td>\n",
       "      <td>1.0</td>\n",
       "      <td>-0.966272</td>\n",
       "      <td>-0.185226</td>\n",
       "      <td>1.792993</td>\n",
       "      <td>-0.863291</td>\n",
       "      <td>-0.010309</td>\n",
       "      <td>1.247203</td>\n",
       "      <td>0.237609</td>\n",
       "      <td>0.377436</td>\n",
       "      <td>-1.387024</td>\n",
       "      <td>...</td>\n",
       "      <td>-0.108300</td>\n",
       "      <td>0.005274</td>\n",
       "      <td>-0.190321</td>\n",
       "      <td>-1.175575</td>\n",
       "      <td>0.647376</td>\n",
       "      <td>-0.221929</td>\n",
       "      <td>0.062723</td>\n",
       "      <td>0.061458</td>\n",
       "      <td>123.50</td>\n",
       "      <td>0</td>\n",
       "    </tr>\n",
       "    <tr>\n",
       "      <td>4</td>\n",
       "      <td>2.0</td>\n",
       "      <td>-1.158233</td>\n",
       "      <td>0.877737</td>\n",
       "      <td>1.548718</td>\n",
       "      <td>0.403034</td>\n",
       "      <td>-0.407193</td>\n",
       "      <td>0.095921</td>\n",
       "      <td>0.592941</td>\n",
       "      <td>-0.270533</td>\n",
       "      <td>0.817739</td>\n",
       "      <td>...</td>\n",
       "      <td>-0.009431</td>\n",
       "      <td>0.798278</td>\n",
       "      <td>-0.137458</td>\n",
       "      <td>0.141267</td>\n",
       "      <td>-0.206010</td>\n",
       "      <td>0.502292</td>\n",
       "      <td>0.219422</td>\n",
       "      <td>0.215153</td>\n",
       "      <td>69.99</td>\n",
       "      <td>0</td>\n",
       "    </tr>\n",
       "  </tbody>\n",
       "</table>\n",
       "<p>5 rows × 31 columns</p>\n",
       "</div>"
      ],
      "text/plain": [
       "   Time        V1        V2        V3        V4        V5        V6        V7  \\\n",
       "0   0.0 -1.359807 -0.072781  2.536347  1.378155 -0.338321  0.462388  0.239599   \n",
       "1   0.0  1.191857  0.266151  0.166480  0.448154  0.060018 -0.082361 -0.078803   \n",
       "2   1.0 -1.358354 -1.340163  1.773209  0.379780 -0.503198  1.800499  0.791461   \n",
       "3   1.0 -0.966272 -0.185226  1.792993 -0.863291 -0.010309  1.247203  0.237609   \n",
       "4   2.0 -1.158233  0.877737  1.548718  0.403034 -0.407193  0.095921  0.592941   \n",
       "\n",
       "         V8        V9  ...       V21       V22       V23       V24       V25  \\\n",
       "0  0.098698  0.363787  ... -0.018307  0.277838 -0.110474  0.066928  0.128539   \n",
       "1  0.085102 -0.255425  ... -0.225775 -0.638672  0.101288 -0.339846  0.167170   \n",
       "2  0.247676 -1.514654  ...  0.247998  0.771679  0.909412 -0.689281 -0.327642   \n",
       "3  0.377436 -1.387024  ... -0.108300  0.005274 -0.190321 -1.175575  0.647376   \n",
       "4 -0.270533  0.817739  ... -0.009431  0.798278 -0.137458  0.141267 -0.206010   \n",
       "\n",
       "        V26       V27       V28  Amount  Class  \n",
       "0 -0.189115  0.133558 -0.021053  149.62      0  \n",
       "1  0.125895 -0.008983  0.014724    2.69      0  \n",
       "2 -0.139097 -0.055353 -0.059752  378.66      0  \n",
       "3 -0.221929  0.062723  0.061458  123.50      0  \n",
       "4  0.502292  0.219422  0.215153   69.99      0  \n",
       "\n",
       "[5 rows x 31 columns]"
      ]
     },
     "execution_count": 7,
     "metadata": {},
     "output_type": "execute_result"
    }
   ],
   "source": [
    "df = pd.read_csv(\"./creditcard.csv\")\n",
    "df.head()"
   ]
  },
  {
   "cell_type": "markdown",
   "metadata": {},
   "source": [
    "### Data Preprocessing\n",
    "Steps:\n",
    "1. Remove duplicate records\n",
    "2. Split the data into train and test sets\n",
    "3. Apply SMOTE(Synthetic Minority Oversampling Technique) on training set.\n",
    "    - The final goal of the model is to work with real life data distribution, therefore the test data and validation data has to stay unchanged.The resampling of the training data is to better represent the minority class so your classifier would have more samples to learn from (Oversampling). One logical explanation as to why SMOTE is applied to only training data while test data is unchangedis that in a real-world scenario, you wouldn't have access to the target variable (that's what you want to predict ) and in order to perform resampling, you need to know which class a sample belongs to for you find it's nearest neighbor(s) (oversampling)."
   ]
  },
  {
   "cell_type": "code",
   "execution_count": 8,
   "metadata": {},
   "outputs": [],
   "source": [
    "# Remove duplicate records\n",
    "df.drop_duplicates(keep=False,inplace=True) \n",
    "X = df.iloc[:,0:30]\n",
    "y=df[[\"Class\"]]\n",
    "\n",
    "X_train,X_test,y_train,y_test=train_test_split(X, y, test_size=0.20, random_state=2)\n",
    "\n",
    "sm = SMOTE(random_state=42)\n",
    "X_res, y_res = sm.fit_resample(X_train, y_train)\n",
    "\n",
    "X_train = pd.DataFrame(X_res,columns=['time', 'V1', 'V2', 'V3', 'V4', 'V5', 'V6', 'V7', 'V8', 'V9', 'V10',\n",
    "       'V11', 'V12', 'V13', 'V14', 'V15', 'V16', 'V17', 'V18', 'V19', 'V20',\n",
    "       'V21', 'V22', 'V23', 'V24', 'V25', 'V26', 'V27', 'V28', 'Amount'])\n",
    "y_train = pd.DataFrame(y_res,columns=[\"labels\"])"
   ]
  },
  {
   "cell_type": "markdown",
   "metadata": {},
   "source": [
    "### Plotting the Number of Fraud Transactions"
   ]
  },
  {
   "cell_type": "code",
   "execution_count": 9,
   "metadata": {},
   "outputs": [],
   "source": [
    "normal_transactions = df[df.Class == 0].groupby([\"Amount\"]).size().reset_index()\n",
    "normal_transactions.columns = [\"Amount\", \"Counts\"]\n",
    "\n",
    "fraud_transactions = df[df.Class == 1].groupby([\"Amount\"]).size().reset_index()\n",
    "fraud_transactions.columns = [\"Amount\", \"Counts\"]"
   ]
  },
  {
   "cell_type": "code",
   "execution_count": 10,
   "metadata": {},
   "outputs": [
    {
     "data": {
      "text/plain": [
       "Text(0.5, 1.0, 'Number of fradulent transactions')"
      ]
     },
     "execution_count": 10,
     "metadata": {},
     "output_type": "execute_result"
    },
    {
     "data": {
      "image/png": "[encoded data removed]",
      "text/plain": [
       "<Figure size 432x288 with 1 Axes>"
      ]
     },
     "metadata": {
      "needs_background": "light"
     },
     "output_type": "display_data"
    }
   ],
   "source": [
    "plt.hist(fraud_transactions[\"Amount\"],bins=10)\n",
    "plt.xlabel(\"Amount in dollars\")\n",
    "plt.ylabel(\"Number of Transactions\")\n",
    "plt.title(\"Number of fradulent transactions\")"
   ]
  },
  {
   "cell_type": "markdown",
   "metadata": {},
   "source": [
    "### Classifiers Used:\n",
    "1. Logistic Regression\n",
    "2. Linear Discriminant Analysis\n",
    "3. Quadratic Discriminant Analysis\n",
    "4. k Nearest Neighbours (kNN)\n",
    "5. Naive Bayes Classifier\n",
    "6. Decision Trees\n",
    "7. Random Forests"
   ]
  },
  {
   "cell_type": "markdown",
   "metadata": {},
   "source": [
    "### Logistic Regression"
   ]
  },
  {
   "cell_type": "code",
   "execution_count": 11,
   "metadata": {},
   "outputs": [
    {
     "name": "stdout",
     "output_type": "stream",
     "text": [
      "Confusion Matrix\n",
      "[[55492   995]\n",
      " [    7    97]]\n",
      " \n",
      "True Positives =  97\n",
      "False Positives =  995\n",
      "True Negatives =  55492\n",
      "False Negatives =  7\n",
      " \n",
      "Precision =  0.08882783882783883\n",
      "Recall =  0.9326923076923077\n",
      "F1 Score =  0.1622073578595318\n"
     ]
    }
   ],
   "source": [
    "model_LR = LogisticRegression()\n",
    "model_LR.fit(X_train,y_train)\n",
    "y_pred_LR = model_LR.predict(X_test)\n",
    "CM_LR = confusion_matrix(y_test,y_pred_LR)\n",
    "precision_LR = precision_score(y_test,y_pred_LR)\n",
    "recall_LR = recall_score(y_test,y_pred_LR)\n",
    "F1_LR = f1_score(y_test,y_pred_LR)\n",
    "\n",
    "print(\"Confusion Matrix\")\n",
    "print(CM_LR)\n",
    "print(\" \")\n",
    "\n",
    "TN = CM_LR[0][0]\n",
    "FP = CM_LR[0][1]\n",
    "FN = CM_LR[1][0]\n",
    "TP = CM_LR[1][1]\n",
    "\n",
    "print(\"True Positives = \",TP)\n",
    "print(\"False Positives = \",FP)\n",
    "print(\"True Negatives = \",TN)\n",
    "print(\"False Negatives = \",FN)\n",
    "print(\" \")\n",
    "\n",
    "print(\"Precision = \",precision_LR)\n",
    "print(\"Recall = \",recall_LR)\n",
    "print(\"F1 Score = \",F1_LR)\n",
    "\n",
    "\n",
    "mcc_LR = matthews_corrcoef(y_test, y_pred_LR)\n",
    "cohen_score_LR = cohen_kappa_score(y_test, y_pred_LR)"
   ]
  },
  {
   "cell_type": "markdown",
   "metadata": {},
   "source": [
    "### Plotting the feature importance according to Logistic Regression"
   ]
  },
  {
   "cell_type": "code",
   "execution_count": 12,
   "metadata": {},
   "outputs": [
    {
     "name": "stdout",
     "output_type": "stream",
     "text": [
      "Coefficients of features in the model\n",
      "     index  Coefficients\n",
      "14     V14      1.033036\n",
      "3       V3      0.715227\n",
      "4       V4      0.638389\n",
      "17     V17      0.494170\n",
      "12     V12      0.483031\n",
      "10     V10      0.374819\n",
      "16     V16      0.327904\n",
      "13     V13      0.322573\n",
      "9       V9      0.286080\n",
      "22     V22      0.283303\n",
      "8       V8      0.238746\n",
      "6       V6      0.228269\n",
      "15     V15      0.224254\n",
      "11     V11      0.178622\n",
      "25     V25      0.139076\n",
      "5       V5      0.130535\n",
      "21     V21      0.123073\n",
      "7       V7      0.104899\n",
      "19     V19      0.087238\n",
      "1       V1      0.086170\n",
      "27     V27      0.063537\n",
      "28     V28      0.060972\n",
      "26     V26      0.039649\n",
      "24     V24      0.039003\n",
      "2       V2      0.028154\n",
      "23     V23      0.026942\n",
      "18     V18      0.026009\n",
      "20     V20      0.019567\n",
      "29  Amount      0.000281\n",
      "0     time      0.000031\n"
     ]
    },
    {
     "data": {
      "text/plain": [
       "Text(0.5, 1.0, 'Important features according to Logistic Regression')"
      ]
     },
     "execution_count": 12,
     "metadata": {},
     "output_type": "execute_result"
    },
    {
     "data": {
      "image/png": "[encoded data removed]",
      "text/plain": [
       "<Figure size 432x288 with 1 Axes>"
      ]
     },
     "metadata": {
      "needs_background": "light"
     },
     "output_type": "display_data"
    }
   ],
   "source": [
    "cdf = pd.DataFrame(abs(model_LR.coef_.T), X_train.columns.T, columns=['Coefficients']).reset_index()\n",
    "print(\"Coefficients of features in the model\")\n",
    "cdf.sort_values('Coefficients',inplace=True,ascending=False)\n",
    "print(cdf)\n",
    "cdf.plot(x=\"index\",y=\"Coefficients\",kind='bar')\n",
    "plt.xlabel(\"Features\")\n",
    "plt.ylabel(\"Feature Importance\")\n",
    "plt.title(\"Important features according to Logistic Regression\")"
   ]
  },
  {
   "cell_type": "markdown",
   "metadata": {},
   "source": [
    "Time and Amount are the least important features according to the above graph"
   ]
  },
  {
   "cell_type": "markdown",
   "metadata": {},
   "source": [
    "### Linear Discriminant Analysis"
   ]
  },
  {
   "cell_type": "code",
   "execution_count": 13,
   "metadata": {},
   "outputs": [
    {
     "name": "stdout",
     "output_type": "stream",
     "text": [
      "Confusion Matrix\n",
      "[[55664   823]\n",
      " [   12    92]]\n",
      " \n",
      "True Positives =  92\n",
      "False Positives =  823\n",
      "True Negatives =  55664\n",
      "False Negatives =  12\n",
      " \n",
      "Precision =  0.1005464480874317\n",
      "Recall =  0.8846153846153846\n",
      "F1 Score =  0.18056918547595682\n"
     ]
    }
   ],
   "source": [
    "model_LDA = LinearDiscriminantAnalysis()\n",
    "model_LDA.fit(X_train,y_train)\n",
    "y_pred_LDA = model_LDA.predict(X_test)\n",
    "precision_LDA = precision_score(y_test,y_pred_LDA)\n",
    "recall_LDA = recall_score(y_test,y_pred_LDA)\n",
    "F1_LDA = f1_score(y_test,y_pred_LDA)\n",
    "\n",
    "CM_LDA = confusion_matrix(y_test, y_pred_LDA)\n",
    "print(\"Confusion Matrix\")\n",
    "print(CM_LDA)\n",
    "print(\" \")\n",
    "\n",
    "TN = CM_LDA[0][0]\n",
    "FP = CM_LDA[0][1]\n",
    "FN = CM_LDA[1][0]\n",
    "TP = CM_LDA[1][1]\n",
    "\n",
    "print(\"True Positives = \",TP)\n",
    "print(\"False Positives = \",FP)\n",
    "print(\"True Negatives = \",TN)\n",
    "print(\"False Negatives = \",FN)\n",
    "print(\" \")\n",
    "\n",
    "print(\"Precision = \",precision_LDA)\n",
    "print(\"Recall = \",recall_LDA)\n",
    "print(\"F1 Score = \",F1_LDA)\n",
    "\n",
    "mcc_LDA = matthews_corrcoef(y_test, y_pred_LDA)\n",
    "cohen_score_LDA = cohen_kappa_score(y_test, y_pred_LDA)"
   ]
  },
  {
   "cell_type": "markdown",
   "metadata": {},
   "source": [
    "### Quadratic Discriminant Analysis"
   ]
  },
  {
   "cell_type": "code",
   "execution_count": 14,
   "metadata": {},
   "outputs": [
    {
     "name": "stdout",
     "output_type": "stream",
     "text": [
      "Confusion Matrix\n",
      "[[54880  1607]\n",
      " [   10    94]]\n",
      " \n",
      "True Positives =  94\n",
      "False Positives =  1607\n",
      "True Negatives =  54880\n",
      "False Negatives =  10\n",
      " \n",
      "Precision =  0.05526161081716637\n",
      "Recall =  0.9038461538461539\n",
      "F1 Score =  0.1041551246537396\n"
     ]
    }
   ],
   "source": [
    "model_QDA = QuadraticDiscriminantAnalysis()\n",
    "model_QDA.fit(X_train,y_train)\n",
    "y_pred_QDA = model_QDA.predict(X_test)\n",
    "precision_QDA = precision_score(y_test,y_pred_QDA)\n",
    "recall_QDA = recall_score(y_test,y_pred_QDA)\n",
    "F1_QDA = f1_score(y_test,y_pred_QDA)\n",
    "\n",
    "CM_QDA = confusion_matrix(y_test, y_pred_QDA)\n",
    "print(\"Confusion Matrix\")\n",
    "print(CM_QDA)\n",
    "print(\" \")\n",
    "\n",
    "TN = CM_QDA[0][0]\n",
    "FP = CM_QDA[0][1]\n",
    "FN = CM_QDA[1][0]\n",
    "TP = CM_QDA[1][1]\n",
    "\n",
    "print(\"True Positives = \",TP)\n",
    "print(\"False Positives = \",FP)\n",
    "print(\"True Negatives = \",TN)\n",
    "print(\"False Negatives = \",FN)\n",
    "print(\" \")\n",
    "\n",
    "print(\"Precision = \",precision_QDA)\n",
    "print(\"Recall = \",recall_QDA)\n",
    "print(\"F1 Score = \",F1_QDA)\n",
    "\n",
    "\n",
    "mcc_QDA = matthews_corrcoef(y_test, y_pred_QDA)\n",
    "cohen_score_QDA = cohen_kappa_score(y_test, y_pred_QDA)"
   ]
  },
  {
   "cell_type": "markdown",
   "metadata": {},
   "source": [
    "### k Nearest Neighbours (kNN)"
   ]
  },
  {
   "cell_type": "code",
   "execution_count": 15,
   "metadata": {},
   "outputs": [
    {
     "name": "stdout",
     "output_type": "stream",
     "text": [
      "Confusion Matrix\n",
      "[[53747  2740]\n",
      " [   46    58]]\n",
      " \n",
      "True Positives =  58\n",
      "False Positives =  2740\n",
      "True Negatives =  53747\n",
      "False Negatives =  46\n",
      " \n",
      "Precision =  0.020729092208720514\n",
      "Recall =  0.5576923076923077\n",
      "F1 Score =  0.03997243280496209\n"
     ]
    }
   ],
   "source": [
    "model_kNN = model_kNN = KNeighborsClassifier(n_neighbors= 3)\n",
    "model_kNN.fit(X_train,y_train)\n",
    "y_pred_kNN = model_kNN.predict(X_test)\n",
    "precision_kNN = precision_score(y_test,y_pred_kNN)\n",
    "recall_kNN = recall_score(y_test,y_pred_kNN)\n",
    "F1_kNN = f1_score(y_test,y_pred_kNN)\n",
    "\n",
    "CM_kNN = confusion_matrix(y_test,y_pred_kNN)\n",
    "print(\"Confusion Matrix\")\n",
    "print(CM_kNN)\n",
    "print(\" \")\n",
    "\n",
    "TN = CM_kNN[0][0]\n",
    "FP = CM_kNN[0][1]\n",
    "FN = CM_kNN[1][0]\n",
    "TP = CM_kNN[1][1]\n",
    "\n",
    "print(\"True Positives = \",TP)\n",
    "print(\"False Positives = \",FP)\n",
    "print(\"True Negatives = \",TN)\n",
    "print(\"False Negatives = \",FN)\n",
    "print(\" \")\n",
    "\n",
    "\n",
    "print(\"Precision = \",precision_kNN)\n",
    "print(\"Recall = \",recall_kNN)\n",
    "print(\"F1 Score = \",F1_kNN)\n",
    "\n",
    "mcc_kNN = matthews_corrcoef(y_test, y_pred_kNN)\n",
    "cohen_score_kNN = cohen_kappa_score(y_test, y_pred_kNN)"
   ]
  },
  {
   "cell_type": "markdown",
   "metadata": {},
   "source": [
    "### Naive Bayes Classifier"
   ]
  },
  {
   "cell_type": "code",
   "execution_count": 16,
   "metadata": {},
   "outputs": [
    {
     "name": "stdout",
     "output_type": "stream",
     "text": [
      "Confusion Matrix\n",
      "[[56089   398]\n",
      " [   19    85]]\n",
      " \n",
      "True Positives =  85\n",
      "False Positives =  398\n",
      "True Negatives =  56089\n",
      "False Negatives =  19\n",
      " \n",
      "Precision =  0.17598343685300208\n",
      "Recall =  0.8173076923076923\n",
      "F1 Score =  0.28960817717206133\n"
     ]
    }
   ],
   "source": [
    "\n",
    "model_NB = GaussianNB()\n",
    "model_NB.fit(X_train,y_train)\n",
    "y_pred_NB = model_NB.predict(X_test)\n",
    "precision_NB = precision_score(y_test,y_pred_NB)\n",
    "recall_NB = recall_score(y_test,y_pred_NB)\n",
    "F1_NB = f1_score(y_test,y_pred_NB)\n",
    "\n",
    "CM_NB = confusion_matrix(y_test,y_pred_NB)\n",
    "print(\"Confusion Matrix\")\n",
    "print(CM_NB)\n",
    "print(\" \")\n",
    "\n",
    "TN = CM_NB[0][0]\n",
    "FP = CM_NB[0][1]\n",
    "FN = CM_NB[1][0]\n",
    "TP = CM_NB[1][1]\n",
    "\n",
    "print(\"True Positives = \",TP)\n",
    "print(\"False Positives = \",FP)\n",
    "print(\"True Negatives = \",TN)\n",
    "print(\"False Negatives = \",FN)\n",
    "print(\" \")\n",
    "\n",
    "print(\"Precision = \",precision_NB)\n",
    "print(\"Recall = \",recall_NB)\n",
    "print(\"F1 Score = \",F1_NB)\n",
    "\n",
    "mcc_nb = matthews_corrcoef(y_test, y_pred_NB)\n",
    "cohen_score_nb = cohen_kappa_score(y_test, y_pred_NB)"
   ]
  },
  {
   "cell_type": "markdown",
   "metadata": {},
   "source": [
    "### Decision Trees"
   ]
  },
  {
   "cell_type": "code",
   "execution_count": 17,
   "metadata": {},
   "outputs": [
    {
     "name": "stdout",
     "output_type": "stream",
     "text": [
      "Confusion Matrix\n",
      "[[56383   104]\n",
      " [   22    82]]\n",
      " \n",
      "True Positives =  82\n",
      "False Positives =  104\n",
      "True Negatives =  56383\n",
      "False Negatives =  22\n",
      " \n",
      "Precision =  0.44086021505376344\n",
      "Recall =  0.7884615384615384\n",
      "F1 Score =  0.5655172413793104\n"
     ]
    }
   ],
   "source": [
    "model_dt = DecisionTreeClassifier()\n",
    "model_dt.fit(X_train,y_train)\n",
    "y_pred_dt = model_dt.predict(X_test)\n",
    "precision_dt = precision_score(y_test,y_pred_dt)\n",
    "recall_dt = recall_score(y_test,y_pred_dt)\n",
    "F1_dt = f1_score(y_test,y_pred_dt)\n",
    "\n",
    "CM_dt = confusion_matrix(y_test,y_pred_dt)\n",
    "print(\"Confusion Matrix\")\n",
    "print(CM_dt)\n",
    "print(\" \")\n",
    "\n",
    "TN = CM_dt[0][0]\n",
    "FP = CM_dt[0][1]\n",
    "FN = CM_dt[1][0]\n",
    "TP = CM_dt[1][1]\n",
    "\n",
    "print(\"True Positives = \",TP)\n",
    "print(\"False Positives = \",FP)\n",
    "print(\"True Negatives = \",TN)\n",
    "print(\"False Negatives = \",FN)\n",
    "print(\" \")\n",
    "\n",
    "print(\"Precision = \",precision_dt)\n",
    "print(\"Recall = \",recall_dt)\n",
    "print(\"F1 Score = \",F1_dt)\n",
    "\n",
    "mcc_dt = matthews_corrcoef(y_test, y_pred_dt)\n",
    "cohen_score_dt = cohen_kappa_score(y_test, y_pred_dt)"
   ]
  },
  {
   "cell_type": "markdown",
   "metadata": {},
   "source": [
    "### Random Forests"
   ]
  },
  {
   "cell_type": "code",
   "execution_count": 18,
   "metadata": {},
   "outputs": [
    {
     "name": "stdout",
     "output_type": "stream",
     "text": [
      "Confusion Matrix\n",
      "[[56478     9]\n",
      " [   15    89]]\n",
      " \n",
      "True Positives =  89\n",
      "False Positives =  9\n",
      "True Negatives =  56478\n",
      "False Negatives =  15\n",
      " \n",
      "Precision =  0.9081632653061225\n",
      "Recall =  0.8557692307692307\n",
      "F1 Score =  0.8811881188118811\n"
     ]
    }
   ],
   "source": [
    "model_RF = RandomForestClassifier()\n",
    "model_RF.fit(X_train, y_train)  \n",
    "y_pred_RF = model_RF.predict(X_test)\n",
    "precision_RF = precision_score(y_test,y_pred_RF)\n",
    "recall_RF = recall_score(y_test,y_pred_RF)\n",
    "F1_RF = f1_score(y_test,y_pred_RF)\n",
    "\n",
    "CM_RF = confusion_matrix(y_test,y_pred_RF)\n",
    "print(\"Confusion Matrix\")\n",
    "print(CM_RF)\n",
    "print(\" \")\n",
    "\n",
    "TN = CM_RF[0][0]\n",
    "FP = CM_RF[0][1]\n",
    "FN = CM_RF[1][0]\n",
    "TP = CM_RF[1][1]\n",
    "\n",
    "print(\"True Positives = \",TP)\n",
    "print(\"False Positives = \",FP)\n",
    "print(\"True Negatives = \",TN)\n",
    "print(\"False Negatives = \",FN)\n",
    "print(\" \")\n",
    "\n",
    "print(\"Precision = \",precision_RF)\n",
    "print(\"Recall = \",recall_RF)\n",
    "print(\"F1 Score = \",F1_RF)\n",
    "\n",
    "\n",
    "mcc_RF = matthews_corrcoef(y_test, y_pred_RF)\n",
    "cohen_score_RF = cohen_kappa_score(y_test, y_pred_RF)"
   ]
  },
  {
   "cell_type": "markdown",
   "metadata": {},
   "source": [
    "### Plotting feature importance according to Random Forest Classifier"
   ]
  },
  {
   "cell_type": "code",
   "execution_count": 19,
   "metadata": {},
   "outputs": [
    {
     "data": {
      "text/plain": [
       "Text(0.5, 1.0, 'Important features according to Random Forest Classifier')"
      ]
     },
     "execution_count": 19,
     "metadata": {},
     "output_type": "execute_result"
    },
    {
     "data": {
      "image/png": "[encoded data removed]",
      "text/plain": [
       "<Figure size 432x288 with 1 Axes>"
      ]
     },
     "metadata": {
      "needs_background": "light"
     },
     "output_type": "display_data"
    }
   ],
   "source": [
    "fi = pd.DataFrame(abs(model_RF.feature_importances_.T), X_train.columns.T, columns=['Coefficients']).reset_index()\n",
    "fi.sort_values('Coefficients',inplace=True,ascending=False)\n",
    "fi.plot(x=\"index\",y=\"Coefficients\",kind='bar')\n",
    "plt.xlabel(\"Features\")\n",
    "plt.ylabel(\"Feature Importance\")\n",
    "plt.title(\"Important features according to Random Forest Classifier\")"
   ]
  },
  {
   "cell_type": "markdown",
   "metadata": {},
   "source": [
    "Random Forest classifier further optimizes the number of features selected compared to Logistic Regression  "
   ]
  },
  {
   "cell_type": "markdown",
   "metadata": {},
   "source": [
    "#### Matthews Correlation Coefficient\n",
    "The Matthews correlation coefficient is used in machine learning as a measure of the quality of binary (two-class) classifications.It takes into account true and false positives and negatives and is generally regarded as a balanced measure which can be used even if the classes are of very different sizes. The MCC is in essence a correlation coefficient between the observed and predicted binary classifications; it returns a value between −1 and +1. A coefficient of +1 represents a perfect prediction, 0 no better than random prediction and −1 indicates total disagreement between prediction and observation. Its a metric used for imbalanced data."
   ]
  },
  {
   "cell_type": "code",
   "execution_count": 20,
   "metadata": {},
   "outputs": [
    {
     "name": "stdout",
     "output_type": "stream",
     "text": [
      "Logistic Regression : 0.28490165219887476\n",
      "Linear Discriminant Analysis : 0.29545300393781077\n",
      "Quadratic Discriminant Analysis : 0.21958227032155878\n",
      "k Nearest Neighbours : 0.10059589894404455\n",
      "Random Forests Classifier : 0.8813661561906059\n",
      "Decision Trees : 0.5886279225386698\n",
      "Naive Bayes Classifier : 0.3772509500655822\n"
     ]
    }
   ],
   "source": [
    "print(\"Logistic Regression :\",mcc_LR)\n",
    "print(\"Linear Discriminant Analysis :\",mcc_LDA)\n",
    "print(\"Quadratic Discriminant Analysis :\",mcc_QDA)\n",
    "print(\"k Nearest Neighbours :\",mcc_kNN)\n",
    "print(\"Random Forests Classifier :\",mcc_RF)\n",
    "print(\"Decision Trees :\",mcc_dt)\n",
    "print(\"Naive Bayes Classifier :\",mcc_nb)"
   ]
  },
  {
   "cell_type": "markdown",
   "metadata": {},
   "source": [
    "From the above metrics Random forest classifier performs the best.                                                             \n",
    "LDA performs better than QDA which indicates the data is linearly seperable\n"
   ]
  },
  {
   "cell_type": "markdown",
   "metadata": {},
   "source": [
    "### ROC curves\n",
    "ROC curves are not very useful for evaluating imbalanced classes"
   ]
  },
  {
   "cell_type": "code",
   "execution_count": 21,
   "metadata": {},
   "outputs": [
    {
     "name": "stdout",
     "output_type": "stream",
     "text": [
      "AUC for  Logistic Regression  =  0.957538817644904\n",
      "AUC for  LDA  =  0.9350228303040454\n",
      "AUC for  QDA  =  0.9376985650884955\n",
      "AUC for  kNN  =  0.7545927858145713\n",
      "AUC for  Naive Bayes Classifier  =  0.9051309116733461\n",
      "AUC for  Decision Trees  =  0.8933102034368697\n",
      "AUC for  Random Forests  =  0.9278049510370665\n"
     ]
    },
    {
     "data": {
      "image/png": "[encoded data removed]",
      "text/plain": [
       "<Figure size 432x288 with 1 Axes>"
      ]
     },
     "metadata": {
      "needs_background": "light"
     },
     "output_type": "display_data"
    }
   ],
   "source": [
    "classifier_predictions = [y_pred_LR,y_pred_LDA,y_pred_QDA,y_pred_kNN,y_pred_NB,y_pred_dt,y_pred_RF]\n",
    "classifier_names = [\"Logistic Regression\",\"LDA\",\"QDA\",\"kNN\",\"Naive Bayes Classifier\",\"Decision Trees\",\"Random Forests\"]\n",
    "for i in range(len(classifier_predictions)):\n",
    "    fpr,tpr,thresholds = roc_curve(y_test,classifier_predictions[i])\n",
    "    plt.plot(fpr,tpr,label= classifier_names[i])\n",
    "    plt.xlabel(\"False Positive Rate(FPR)\")\n",
    "    plt.ylabel(\"True Positive Rate(TPR)\")\n",
    "    plt.legend()\n",
    "    print(\"AUC for \",classifier_names[i],\" = \",auc(fpr,tpr))"
   ]
  },
  {
   "cell_type": "markdown",
   "metadata": {},
   "source": [
    "### Cohen's kappa coefficient\n",
    "Cohen's kappa statistic is a very good measure that can handle very well both multi-class and imbalanced class problems. Cohen's kappa is always less than or equal to 1. Values of 0 or less, indicate that the classifier is useless."
   ]
  },
  {
   "cell_type": "code",
   "execution_count": 22,
   "metadata": {},
   "outputs": [
    {
     "name": "stdout",
     "output_type": "stream",
     "text": [
      "Logistic Regression : 0.15938635282118474\n",
      "Linear Discriminant Analysis : 0.17785580389863875\n",
      "Quadratic Discriminant Analysis : 0.10104138158019926\n",
      "k Nearest Neighbours : 0.0365582108667869\n",
      "Random Forests Classifier : 0.8809758795856418\n",
      "Decision Trees : 0.5644905770593027\n",
      "Naive Bayes Classifier : 0.28745322132045237\n"
     ]
    }
   ],
   "source": [
    "print(\"Logistic Regression :\",cohen_score_LR)\n",
    "print(\"Linear Discriminant Analysis :\",cohen_score_LDA)\n",
    "print(\"Quadratic Discriminant Analysis :\",cohen_score_QDA)\n",
    "print(\"k Nearest Neighbours :\",cohen_score_kNN)\n",
    "print(\"Random Forests Classifier :\",cohen_score_RF)\n",
    "print(\"Decision Trees :\",cohen_score_dt)\n",
    "print(\"Naive Bayes Classifier :\",cohen_score_nb)\n"
   ]
  },
  {
   "cell_type": "markdown",
   "metadata": {},
   "source": [
    "### Precision-Recall curve\n",
    "Precision-Recall curve is a useful metric to measure the performance of models dealing with imbalanced data. From the below precision-recall curve Random forest classifier performs the best."
   ]
  },
  {
   "cell_type": "code",
   "execution_count": 23,
   "metadata": {},
   "outputs": [
    {
     "name": "stdout",
     "output_type": "stream",
     "text": [
      "AUC for  Logistic Regression  =  0.5089841724984681\n",
      "AUC for  LDA  =  0.49084919222566376\n",
      "AUC for  QDA  =  0.47780448755157134\n",
      "AUC for  kNN  =  0.2877793769486234\n",
      "AUC for  Naive Bayes Classifier  =  0.49497568774480794\n",
      "AUC for  Decision Trees  =  0.6130175059036281\n",
      "AUC for  Random Forests  =  0.8802610298934487\n"
     ]
    },
    {
     "data": {
      "image/png": "[encoded data removed]",
      "text/plain": [
       "<Figure size 432x288 with 1 Axes>"
      ]
     },
     "metadata": {
      "needs_background": "light"
     },
     "output_type": "display_data"
    }
   ],
   "source": [
    "precision, recall, thresholds = precision_recall_curve(y_test, y_pred_RF)\n",
    "plt.plot(recall,precision)\n",
    "plt.xlabel(\"False Positive Rate(FPR)\")\n",
    "plt.ylabel(\"True Positive Rate(TPR)\")\n",
    "\n",
    "classifier_predictions = [y_pred_LR,y_pred_LDA,y_pred_QDA,y_pred_kNN,y_pred_NB,y_pred_dt,y_pred_RF]\n",
    "classifier_names = [\"Logistic Regression\",\"LDA\",\"QDA\",\"kNN\",\"Naive Bayes Classifier\",\"Decision Trees\",\"Random Forests\"]\n",
    "for i in range(len(classifier_predictions)):\n",
    "    precision, recall, thresholds = precision_recall_curve(y_test,classifier_predictions[i])\n",
    "    plt.plot(recall,precision,label= classifier_names[i])\n",
    "    plt.xlabel(\"Recall\")\n",
    "    plt.ylabel(\"Precision\")\n",
    "    plt.legend()\n",
    "    print(\"AUC for \",classifier_names[i],\" = \",auc(precision,recall))"
   ]
  }
 ],
 "metadata": {
  "kernelspec": {
   "display_name": "Python 3",
   "language": "python",
   "name": "python3"
  },
  "language_info": {
   "codemirror_mode": {
    "name": "ipython",
    "version": 3
   },
   "file_extension": ".py",
   "mimetype": "text/x-python",
   "name": "python",
   "nbconvert_exporter": "python",
   "pygments_lexer": "ipython3",
   "version": "3.7.4"
  }
 },
 "nbformat": 4,
 "nbformat_minor": 2
}
